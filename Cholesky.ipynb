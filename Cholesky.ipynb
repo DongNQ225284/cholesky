{
  "cells": [
    {
      "cell_type": "code",
      "execution_count": 29,
      "metadata": {
        "id": "Ktuzj8Wzns4J"
      },
      "outputs": [],
      "source": [
        "\n",
        "import cv2\n",
        "import math\n",
        "import numpy as np\n",
        "from PIL import Image\n",
        "from scipy.linalg import lu\n",
        "\n",
        "BLOCKSIZE = 2 # Kích thước các block\n",
        "WM_SIZE = 32  # Kích thước dấu thủy vân\n",
        "q = 10  # vòng lặp T cho arnold\n",
        "T =  0.0275"
      ]
    },
    {
      "cell_type": "code",
      "execution_count": 30,
      "metadata": {},
      "outputs": [],
      "source": [
        "def cholesky(A):\n",
        "  # Kiểm tra xác định dương\n",
        "  if (np.linalg.eigvals(A) > 0).all() == False:\n",
        "    return False\n",
        "  n = A.shape[0]  # Lấy kích thước của ma trận A\n",
        "  for i in range(0, n):\n",
        "    for j in range(0, n):\n",
        "      # Kiểm tra cac phần tử hiện tại và chuyển vị của nó\n",
        "      if A[i][j] != A[j][i]:\n",
        "        return False # Trả về False nếu tồn tại bất kỳ cặp không đối xứng\n",
        "  #print(\"Ma trận đối xứng và xác định dương\")\n",
        "  return True"
      ]
    },
    {
      "cell_type": "code",
      "execution_count": 31,
      "metadata": {},
      "outputs": [],
      "source": [
        "# Khai báo ma trận\n",
        "matrix = np.array([[215, 215, 214, 213],\n",
        "                [215, 214, 213, 213],\n",
        "                [214, 213, 213, 213],\n",
        "                [213, 213, 213, 213]])\n"
      ]
    },
    {
      "cell_type": "code",
      "execution_count": 32,
      "metadata": {
        "id": "MO1BoAge4Caq"
      },
      "outputs": [],
      "source": [
        "def arnold_transform(matrix, iterations):\n",
        "    height, width = matrix.shape\n",
        "    print(height, width)\n",
        "    new_matrix = np.zeros((height, width), dtype=matrix.dtype)\n",
        "\n",
        "    for _ in range(iterations):\n",
        "        for x in range(height):\n",
        "            for y in range(width):\n",
        "                s = (x + y) % height\n",
        "                t = (x + 2*y) % width\n",
        "                new_matrix[s, t] = matrix[x, y]\n",
        "\n",
        "        matrix = new_matrix.copy()\n",
        "\n",
        "    return new_matrix"
      ]
    },
    {
      "cell_type": "code",
      "execution_count": 33,
      "metadata": {
        "id": "nwPyac64Wml6"
      },
      "outputs": [],
      "source": [
        "def invert_arnold_transform(matrix, iterations):\n",
        "    height, width = matrix.shape\n",
        "    print(height, width)\n",
        "    new_matrix = np.zeros((height, width), dtype=matrix.dtype)\n",
        "\n",
        "    for _ in range(iterations):\n",
        "        for s in range(height):\n",
        "            for t in range(width):\n",
        "                x = (2*s - t) % height\n",
        "                y = (t - s) % width\n",
        "                new_matrix[x, y] = matrix[s, t]\n",
        "\n",
        "        matrix = new_matrix.copy()\n",
        "    return new_matrix"
      ]
    },
    {
      "cell_type": "code",
      "execution_count": 34,
      "metadata": {
        "colab": {
          "base_uri": "https://localhost:8080/"
        },
        "id": "um1MczCCWSAX",
        "outputId": "beeabfc2-f439-4154-a0f8-a4198af6b682"
      },
      "outputs": [],
      "source": [
        "watermark = cv2.imread(\"/content/w_binary.png\", cv2.IMREAD_GRAYSCALE)\n",
        "arnold_watermark = arnold_transform(watermark, 10)\n",
        "cv2.imwrite(\"arnold_watermark.png\", arnold_watermark)\n"
      ]
    },
    {
      "cell_type": "code",
      "execution_count": 35,
      "metadata": {
        "colab": {
          "base_uri": "https://localhost:8080/"
        },
        "id": "0tsIgyySYGTW",
        "outputId": "cbad7bd9-ba18-4f72-e2fe-9043c21c7aac"
      },
      "outputs": [],
      "source": [
        "arnold_watermark = cv2.imread(\"/content/arnold_watermark.png\", cv2.IMREAD_GRAYSCALE)\n",
        "watermark = invert_arnold_transform(arnold_watermark, 10)\n",
        "cv2.imwrite(\"watermark.png\", watermark)"
      ]
    },
    {
      "cell_type": "code",
      "execution_count": 36,
      "metadata": {},
      "outputs": [],
      "source": [
        "def embed(filename, watermarkname, outfilename):\n",
        "  img = cv2.imread(filename)\n",
        "  print(\"Image size: {}\".format(img.shape))\n",
        "  watermark = cv2.imread(watermarkname, cv2.IMREAD_GRAYSCALE)\n",
        "  print(\"Watermark size: {}\".format(watermark.shape))\n",
        "\n",
        "  out_img = img.copy()  # Tạo ảnh đầu ra kích thước như ảnh gốc\n",
        "\n",
        "  arnold_watermark = arnold_transform(watermark, 10)  # Biến đổi arnold cho dấu thủy vân\n",
        "  w = arnold_watermark.flatten()  # Làm phẳng dấu thủy vân 1D\n",
        "  w = np.array(w/w.max(),dtype=np.uint8)\n",
        "  print(w[:10])\n",
        "  cv2.imwrite(\"arnold_watermark.png\", arnold_watermark) # Lưu lại dấu thủy vân sau biến đổi arnold\n",
        "\n",
        "  # Quét ảnh theo BLOCKSIZE = 4x4\n",
        "  i = 0\n",
        "  accepted = 0\n",
        "  not_accepted = 0\n",
        "  with open(\"cholesky.txt\", \"w\", encoding=\"utf-8\") as f:\n",
        "    for y in range(0, img.shape[0], BLOCKSIZE):\n",
        "      for x in range(0, img.shape[1], BLOCKSIZE):\n",
        "        block = img[y:y+BLOCKSIZE, x:x+BLOCKSIZE, 0].astype(np.uint8)\n",
        "        #cholesky sẽ bị lỗi nếu kích thước các khối ảnh là khác nhau, điều này xảy ra khi kích thước ảnh không chia hết cho BLOCKSIZE\n",
        "        try:\n",
        "          cholesky(block)\n",
        "        except:\n",
        "          not_accepted += 1 #Nếu phát sinh lỗi thì bỏ qua\n",
        "          continue\n",
        "        if cholesky(block) is False: #Kiểm tra điều kiện cholesky\n",
        "          not_accepted += 1\n",
        "          continue # Nếu không thỏa điều kiện định thức thì bỏ qua\n",
        "        else: # Nếu thỏa thì xử lý phân tích cholesky\n",
        "          A = block\n",
        "          try:\n",
        "            L = np.linalg.cholesky(A)\n",
        "          except:\n",
        "            not_accepted += 1 #Nếu phát sinh lỗi thì bỏ qua\n",
        "            continue\n",
        "          L = np.linalg.cholesky(A)\n",
        "          LT = np.transpose(L)\n",
        "          if i == len(w):\n",
        "            i = 0\n",
        "          z = L[0, 0] - L[1, 0]\n",
        "          value = w[i]\n",
        "          #Thực hiện nhúng\n",
        "          if z >= 0 and value == 1:\n",
        "            L[0, 0] = L[1, 0] - T #Đã sửa lại vị trí nhúng\n",
        "          elif z <= 0 and value == 0:\n",
        "            L[1, 0] = L[0, 0] - T #Đã sửa lại vị trí nhúng\n",
        "          A = np.dot(L, LT)\n",
        "          #Thực hiện làm tròn các giá trị\n",
        "          if value == 1:\n",
        "            A[0, 0] = math.floor(A[0, 0])\n",
        "            A[1, 0] = math.ceil(A[1, 0])\n",
        "          else:\n",
        "            A[0, 0] = math.ceil(A[0, 0])\n",
        "            A[1, 0] = math.floor(A[1, 0])\n",
        "          i += 1\n",
        "          accepted += 1 #Thỏa mãn phân tích Cholesky\n",
        "          f.write(\"{}\\n\".format(str(A.astype(np.uint8)).replace(\"\\n\", \"\")))\n",
        "          out_img[y:y+BLOCKSIZE, x:x+BLOCKSIZE, 0] = A.astype(np.uint8)\n",
        "  cv2.imwrite(outfilename, out_img)\n",
        "  print(\"Khối phù hợp: {}\".format(accepted))\n",
        "  print(\"Khối không phù hợp: {}\".format(not_accepted))"
      ]
    },
    {
      "cell_type": "code",
      "execution_count": 37,
      "metadata": {
        "colab": {
          "base_uri": "https://localhost:8080/",
          "height": 472
        },
        "id": "6szvruTSHwUn",
        "outputId": "155f9aa7-3376-4e24-b04a-95aefa12689b"
      },
      "outputs": [
        {
          "name": "stdout",
          "output_type": "stream",
          "text": [
            "Image size: (512, 512, 3)\n",
            "Watermark size: (32, 32)\n",
            "32 32\n",
            "[1 1 1 1 0 1 1 1 0 0]\n"
          ]
        },
        {
          "name": "stdout",
          "output_type": "stream",
          "text": [
            "Khối phù hợp: 2700\n",
            "Khối không phù hợp: 62836\n"
          ]
        }
      ],
      "source": [
        "embed(filename = \"/content/lenna.bmp\",\n",
        "      watermarkname = \"/content/w_binary.png\",\n",
        "      outfilename = \"/content/embed_watermark.bmp\")"
      ]
    },
    {
      "cell_type": "code",
      "execution_count": 38,
      "metadata": {
        "id": "KPQIFhSMEGEn"
      },
      "outputs": [],
      "source": [
        "def extract(filename, outfilename):\n",
        "  img = cv2.imread(filename)\n",
        "  print(\"Image size: {}\".format(img.shape))\n",
        "\n",
        "  w = np.zeros(WM_SIZE**2, dtype=np.uint8)\n",
        "  cholesky = []\n",
        "  with open(\"cholesky.txt\", \"r\", encoding=\"utf-8\") as f:\n",
        "    lines = f.readlines()\n",
        "    for line in lines:\n",
        "      cholesky.append(line.strip(\"\\n\"))\n",
        "  i = 0\n",
        "  #Thực hiện trích xuất\n",
        "  for y in range(0, img.shape[0], BLOCKSIZE):\n",
        "    for x in range(0, img.shape[1], BLOCKSIZE):\n",
        "        block = img[y:y+BLOCKSIZE, x:x+BLOCKSIZE, 0].astype(np.uint8)\n",
        "        temp = str(block).replace(\"\\n\", \"\")\n",
        "\n",
        "        if i < 1024:\n",
        "          if temp == cholesky[i]:\n",
        "            value1 = math.sqrt(block[0, 0]) # value1 = L[1, 0] # Đã sửa lại vị trí trích xuất\n",
        "            value2 = block[1, 0] / math.sqrt(block[0, 0]) # value2 = L[2, 0] #Đã sửa lại vị trí trích xuất\n",
        "            if value1 > value2: #Đã sửa >= thành >\n",
        "              w[i] = 0\n",
        "            else:\n",
        "              w[i] = 255\n",
        "            i += 1\n",
        "\n",
        "  arnold_watermark = w.reshape(32, 32)\n",
        "  print(\"Watermark size: {}\".format(arnold_watermark.shape))\n",
        "  watermark = invert_arnold_transform(arnold_watermark, 10)\n",
        "  cv2.imwrite(outfilename, watermark)"
      ]
    },
    {
      "cell_type": "code",
      "execution_count": 39,
      "metadata": {
        "id": "LjlQlg7aDfGG"
      },
      "outputs": [
        {
          "name": "stdout",
          "output_type": "stream",
          "text": [
            "Image size: (512, 512, 3)\n",
            "Watermark size: (32, 32)\n",
            "32 32\n"
          ]
        }
      ],
      "source": [
        "extract(filename = \"/content/embed_watermark.bmp\",\n",
        "        outfilename = \"/content/extracted_watermark.png\")\n"
      ]
    },
    {
      "cell_type": "code",
      "execution_count": 40,
      "metadata": {
        "id": "-OhwVbEG9O8V"
      },
      "outputs": [],
      "source": [
        "def psnr(img1, img2):\n",
        "    mse = np.mean((img1 - img2)**2)\n",
        "    if mse == 0:\n",
        "        return 100\n",
        "    PIXEL_MAX = 255.0\n",
        "    return 20*math.log10(PIXEL_MAX/math.sqrt(mse))"
      ]
    },
    {
      "cell_type": "code",
      "execution_count": 42,
      "metadata": {
        "id": "iHzUyTvH9ji-"
      },
      "outputs": [
        {
          "name": "stdout",
          "output_type": "stream",
          "text": [
            "PSNR index: 58.85202103882375\n"
          ]
        }
      ],
      "source": [
        "img1 = cv2.imread('/content/avion.bmp')\n",
        "img2 = cv2.imread('/content/embed_watermark.bmp')\n",
        "psnr_index = psnr(img1, img2)\n",
        "print(f\"PSNR index: {psnr_index}\")"
      ]
    },
    {
      "cell_type": "code",
      "execution_count": 45,
      "metadata": {
        "id": "rMIHW8an-m9-"
      },
      "outputs": [],
      "source": [
        "def mssim(img1, img2):\n",
        "    \"\"\"\n",
        "    Tính toán SSIM (Chỉ số tương tự về cấu trúc) cho hình ảnh đầy đủ.\n",
        "    \"\"\"\n",
        "    C1 = (0.01 * 255)**2\n",
        "    C2 = (0.03 * 255)**2\n",
        "\n",
        "    img1 = img1.astype(np.uint8)\n",
        "    img2 = img2.astype(np.uint8)\n",
        "\n",
        "    mean_img1 = np.mean(img1)\n",
        "    mean_img2 = np.mean(img2)\n",
        "\n",
        "    var_img1 = np.var(img1)\n",
        "    var_img2 = np.var(img2)\n",
        "\n",
        "    std_img1 = np.sqrt(var_img1)\n",
        "    std_img2 = np.sqrt(var_img2)\n",
        "\n",
        "    cov = np.mean((img1 - mean_img1) * (img2 - mean_img2))\n",
        "\n",
        "    numerator = (2 * mean_img1 * mean_img2 + C1) * (2 * cov + C2)\n",
        "    denominator = (mean_img1**2 + mean_img2**2 + C1) * (var_img1 + var_img2 + C2)\n",
        "\n",
        "    ssim_index = numerator / denominator\n",
        "    return ssim_index"
      ]
    },
    {
      "cell_type": "code",
      "execution_count": 46,
      "metadata": {
        "id": "vdg_DufHC2R6"
      },
      "outputs": [
        {
          "name": "stdout",
          "output_type": "stream",
          "text": [
            "SSIM index: 1.0\n"
          ]
        }
      ],
      "source": [
        "img1 = cv2.imread(\"/content/w_binary.png\", cv2.IMREAD_GRAYSCALE)\n",
        "img2 = cv2.imread('/content/extracted_watermark.png', cv2.IMREAD_GRAYSCALE)\n",
        "ssim_index = mssim(img1, img2)\n",
        "print(f\"SSIM index: {ssim_index}\")"
      ]
    },
    {
      "cell_type": "code",
      "execution_count": 47,
      "metadata": {
        "id": "o2bRa6gm8vub"
      },
      "outputs": [],
      "source": [
        "def nc(img1, img2):\n",
        "    # Chuyển đổi kiểu dữ liệu sang float để tính toán\n",
        "    image1 = img1.astype(np.float64)\n",
        "    image2 = img2.astype(np.float64)\n",
        "\n",
        "    # Tính giá trị trung bình của mỗi hình ảnh\n",
        "    mean_image1 = np.mean(image1)\n",
        "    mean_image2 = np.mean(image2)\n",
        "\n",
        "    # Chuẩn hóa hình ảnh bằng cách trừ đi giá trị trung bình\n",
        "    norm_image1 = image1 - mean_image1\n",
        "    norm_image2 = image2 - mean_image2\n",
        "\n",
        "    # Tính tử số và mẫu số của công thức NC\n",
        "    numerator = np.sum(norm_image1 * norm_image2)\n",
        "    denominator = np.sqrt(np.sum(norm_image1**2) * np.sum(norm_image2**2))\n",
        "\n",
        "    # Tránh chia cho 0\n",
        "    if denominator == 0:\n",
        "        return 0\n",
        "\n",
        "    # Tính và trả về chỉ số NC\n",
        "    nc_index = numerator / denominator\n",
        "    return nc_index"
      ]
    },
    {
      "cell_type": "code",
      "execution_count": 48,
      "metadata": {
        "id": "l2ap-1rl5Ux5"
      },
      "outputs": [
        {
          "name": "stdout",
          "output_type": "stream",
          "text": [
            "NC index: 1.0\n"
          ]
        }
      ],
      "source": [
        "img1 = cv2.imread('/content/w_binary.png')\n",
        "img2 = cv2.imread('/content/extracted_watermark.png')\n",
        "nc_index = nc(img1, img2)\n",
        "print(f\"NC index: {nc_index}\")"
      ]
    }
  ],
  "metadata": {
    "colab": {
      "provenance": []
    },
    "kernelspec": {
      "display_name": "Python 3",
      "name": "python3"
    },
    "language_info": {
      "codemirror_mode": {
        "name": "ipython",
        "version": 3
      },
      "file_extension": ".py",
      "mimetype": "text/x-python",
      "name": "python",
      "nbconvert_exporter": "python",
      "pygments_lexer": "ipython3",
      "version": "3.10.6"
    }
  },
  "nbformat": 4,
  "nbformat_minor": 0
}
